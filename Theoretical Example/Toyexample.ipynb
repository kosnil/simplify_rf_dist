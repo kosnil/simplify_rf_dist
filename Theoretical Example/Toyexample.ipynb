{
 "cells": [
  {
   "cell_type": "markdown",
   "id": "00a00b28-cd28-4afd-8ae0-346d946cc130",
   "metadata": {},
   "source": [
    "# Toyexample"
   ]
  },
  {
   "cell_type": "code",
   "execution_count": 1,
   "id": "6ae960c5-a54e-45f3-8f0a-fc253e4f66eb",
   "metadata": {},
   "outputs": [],
   "source": [
    "import numpy as np\n",
    "import matplotlib.pyplot as plt\n",
    "np.random.seed(7531)\n",
    "\n",
    "# bin mir nicht mehr ganz sicher ob man \"pgf.texsystem\" braucht oder nicht - würde es erst ohne probieren\n",
    "plt.rcParams.update({\n",
    "    \"text.usetex\": True,\n",
    "    \"font.size\" : 12,\n",
    "    #\"pgf.texsystem\": \"pdflatex\",\n",
    "    \"font.family\": \"serif\",\n",
    "    \"text.usetex\": True,\n",
    "    \"pgf.rcfonts\": True,\n",
    "    \"lines.antialiased\": True,\n",
    "    \"patch.antialiased\": True,\n",
    "    'axes.linewidth': 0.1\n",
    "})\n",
    "\n",
    "\n",
    "def set_size(width, fraction=1, subplots=(1, 1)):\n",
    "    \"\"\"Set figure dimensions to avoid scaling in LaTeX.\n",
    "\n",
    "    Parameters\n",
    "    ----------\n",
    "    width: float or string\n",
    "            Document width in points, or string of predined document type\n",
    "    fraction: float, optional\n",
    "            Fraction of the width which you wish the figure to occupy\n",
    "    subplots: array-like, optional\n",
    "            The number of rows and columns of subplots.\n",
    "    Returns\n",
    "    -------\n",
    "    fig_dim: tuple\n",
    "            Dimensions of figure in inches\n",
    "    \"\"\"\n",
    "    if width == 'thesis':\n",
    "        width_pt = 426.79135\n",
    "    elif width == 'beamer':\n",
    "        width_pt = 307.28987\n",
    "    else:\n",
    "        width_pt = width\n",
    "\n",
    "    # Width of figure (in pts)\n",
    "    fig_width_pt = width_pt * fraction\n",
    "    # Convert from pt to inches\n",
    "    inches_per_pt = 1 / 72.27\n",
    "\n",
    "    # Golden ratio to set aesthetic figure height\n",
    "    # https://disq.us/p/2940ij3\n",
    "    golden_ratio = (5**.5 - 1) / 2\n",
    "\n",
    "    # Figure width in inches\n",
    "    fig_width_in = fig_width_pt * inches_per_pt\n",
    "    # Figure height in inches\n",
    "    fig_height_in = fig_width_in * golden_ratio * (subplots[0] / subplots[1])\n",
    "\n",
    "    return (fig_width_in, fig_height_in)\n",
    "    \n",
    "    \n",
    "# CHECK AGAIN IF THIS IS ALWAYS TRUE OR FORMAT DEPENDENT\n",
    "LATEX_WIDTH = 455.24411 \n",
    "    \n",
    "# default size\n",
    "plt.rcParams['figure.figsize'] = set_size(LATEX_WIDTH, fraction=1.)\n",
    "\n",
    "# Für subplots z.B. (mit der fraction muss man ein bisschen spielen):\n",
    "#plt.figure(figsize=set_size(LATEX_WIDTH, fraction=1.6, subplots=(1,2)))\n",
    "\n",
    "# Speichern\n",
    "#plt.savefig('path/to/plot/fig_name.pgf', bbox_inches='tight',pad_inches=0.1, dpi=1000)  \n"
   ]
  },
  {
   "cell_type": "markdown",
   "id": "d7b0b628-117f-4e66-82da-80f354c12565",
   "metadata": {},
   "source": [
    "<span style=\"color:#337AA1; font-weight: bold;\">blue</span>  = \"#337AA1\"  \n",
    "<span style=\"color:#0CB5ED; font-weight: bold;\">blue2</span>  = \"#0CB5ED\"  \n",
    "<span style=\"color:#1B2F57; font-weight: bold;\">blue3</span>  = \"#1B2F57\"  \n",
    "<span style=\"color:#5A7585; font-weight: bold;\">bluegrey</span>  = \"#5A7585\"  \n",
    "<span style=\"color:#24D6B1; font-weight: bold;\">turq</span>  = \"#24D6B1\"  \n",
    "<span style=\"color:#A12D03; font-weight: bold;\">red</span>  = \"#A12D03\"  \n",
    "<span style=\"color:#945A54; font-weight: bold;\">red2</span>  = \"#945A54\"  \n",
    "<span style=\"color:#E65849; font-weight: bold;\">red3</span> = \"#E65849\"  \n",
    "<span style=\"color:#5C0000; font-weight: bold;\">red4</span> = \"#5C0000\"  \n",
    "<span style=\"color:#A03D4D; font-weight: bold;\">red5</span> = \"#A03D4D\"   \n",
    "<span style=\"color:#E0B25E; font-weight: bold;\">och</span>  = \"#E0B25E\"  \n",
    "<span style=\"color:#AAE070; font-weight: bold;\">lime</span>  = \"#AAE070\"  \n",
    "<span style=\"color:#005C17; font-weight: bold;\">green</span>  = \"#005C17\"   \n",
    "<span style=\"color:#109958; font-weight: bold;\">green2</span>  = \"#109958\"    \n",
    "<span style=\"color:#91D68D; font-weight: bold;\">green3</span>  = \"#91D68D\"  \n",
    "<span style=\"color:#DB8436; font-weight: bold;\">orange</span>  = \"#DB8436\"  \n",
    "<span style=\"color:#613D0C; font-weight: bold;\">brown</span>  = \"#613D0C\"  \n",
    "<span style=\"color:#532A80; font-weight: bold;\">lila</span>  = \"#532A80\"  \n",
    "<span style=\"color:#525252; font-weight: bold;\">grey</span>  = \"#525252\"   "
   ]
  },
  {
   "cell_type": "code",
   "execution_count": 2,
   "id": "ec6fbeb5-7237-40ed-b418-73c251845e0f",
   "metadata": {},
   "outputs": [],
   "source": [
    "red5 = \"#C96A57\"\n",
    "blue4 = \"#8CC6FF\"\n",
    "green3 = \"#9CFFA5\""
   ]
  },
  {
   "cell_type": "code",
   "execution_count": 3,
   "id": "9647bc6a-3492-4c24-9796-4f6518dac854",
   "metadata": {},
   "outputs": [],
   "source": [
    "blue = \"#337AA1\"  \n",
    "blue2 = \"#0CB5ED\"\n",
    "blue3 = \"#1B2F57\"\n",
    "bluegrey = \"#5A7585\"\n",
    "turq = \"#24D6B1\"  \n",
    "turq2 = \"#09736A\"\n",
    "red = \"#A12D03\"  \n",
    "red2  = \"#945A54\"\n",
    "red3 = \"#E65849\"\n",
    "red4 = \"#5C0000\"\n",
    "red5 = \"#A03D4D\" #A03D4D A1154D B84659\n",
    "och = \"#E0B25E\"  \n",
    "lime = \"#AAE070\"  \n",
    "green = \"#005C17\"  \n",
    "green2 = \"#109958\"\n",
    "green3 = \"#91D68D\" #0AA16C 8ED18A 91D68D\n",
    "orange = \"#DB8436\"  \n",
    "brown  = \"#613D0C\"  \n",
    "lila  = \"#532A80\"  \n",
    "grey = \"#525252\"   "
   ]
  },
  {
   "cell_type": "markdown",
   "id": "cdd40065-342f-4543-a2fd-382c70c1b34e",
   "metadata": {},
   "source": [
    "True Parameters"
   ]
  },
  {
   "cell_type": "code",
   "execution_count": 4,
   "id": "a3d66bfc-7e8f-4c02-b91c-35feb516fabb",
   "metadata": {},
   "outputs": [
    {
     "data": {
      "text/plain": [
       "'/home/nils/projects/randomforest_weighting/Theoretical Example'"
      ]
     },
     "execution_count": 4,
     "metadata": {},
     "output_type": "execute_result"
    }
   ],
   "source": [
    "import os\n",
    "os.getcwd()"
   ]
  },
  {
   "cell_type": "code",
   "execution_count": 5,
   "id": "274de2cb-9c79-45d7-a96e-c698ca1cb7a7",
   "metadata": {},
   "outputs": [],
   "source": [
    "n = 20\n",
    "k = 5\n",
    "I = np.arange(k)\n",
    "I_not = np.arange(I[-1]+1, n)\n",
    "theta_s = .8\n",
    "w_true = np.array([theta_s/k if i in I else (1-theta_s)/(n-k) for i in range(n)])"
   ]
  },
  {
   "cell_type": "markdown",
   "id": "d0212ea6-6191-4de5-9967-ff428a6b598e",
   "metadata": {},
   "source": [
    "Estimated Parameters"
   ]
  },
  {
   "cell_type": "code",
   "execution_count": 6,
   "id": "4b931f1e-6ae9-47ce-a5e6-dec478d912c3",
   "metadata": {},
   "outputs": [
    {
     "data": {
      "text/plain": [
       "Text(0.5, 0, '$i$')"
      ]
     },
     "execution_count": 6,
     "metadata": {},
     "output_type": "execute_result"
    },
    {
     "data": {
      "image/png": "[encoded data removed]",
      "text/plain": [
       "<Figure size 453.543x280.305 with 1 Axes>"
      ]
     },
     "metadata": {
      "needs_background": "light"
     },
     "output_type": "display_data"
    }
   ],
   "source": [
    "d1 = 10\n",
    "d2 = d1\n",
    "theta = .4\n",
    "Z1 = np.random.dirichlet(np.repeat(d1, k))\n",
    "Z2 = np.random.dirichlet(np.repeat(d2, n-k))\n",
    "\n",
    "mask = np.ones(n, dtype=bool)\n",
    "mask[I] = False\n",
    "\n",
    "w_hat = np.zeros(n)\n",
    "w_hat[I] = theta * Z1\n",
    "w_hat[I_not] = (1-theta) * Z2\n",
    "\n",
    "plt.figure(figsize=set_size(LATEX_WIDTH, fraction=1., subplots=(1,1)))\n",
    "plt.plot(I, w_true[I], color=blue)\n",
    "plt.plot(I_not, w_true[mask], color=blue)\n",
    "plt.plot(w_hat, ls='', marker='o', color='black', markersize=2)\n",
    "plt.title(f'$\\\\theta={theta},~d_1=d_2={d1}$')\n",
    "#plt.plot(I, np.repeat(w_hat[I].mean(), len(I)), color=grey, ls='--')\n",
    "#plt.plot(I_not, np.repeat(w_hat[I_not].mean(), len(I_not)), color=grey, ls='--')\n",
    "plt.ylim(-0.01,0.51)\n",
    "plt.ylabel(\"$\\\\omega_i$\")\n",
    "_ = plt.xticks(np.arange(0,20,2), np.arange(0,20,2)+1)\n",
    "plt.xlabel(\"$i$\")\n",
    "\n",
    "#plt.savefig(f'./plots/weight_example_theta_star={theta_s}_theta={theta}_d1={d1}_d2={d2}_n={n}_k={k}.pdf', bbox_inches='tight',pad_inches=0.1, dpi=1000)  "
   ]
  },
  {
   "cell_type": "code",
   "execution_count": 7,
   "id": "9d97060a-fc95-42b1-8a48-7b5c94a00c7f",
   "metadata": {},
   "outputs": [
    {
     "data": {
      "text/plain": [
       "Text(0.5, 0, '$i$')"
      ]
     },
     "execution_count": 7,
     "metadata": {},
     "output_type": "execute_result"
    },
    {
     "data": {
      "image/png": "[encoded data removed]",
      "text/plain": [
       "<Figure size 725.669x224.244 with 2 Axes>"
      ]
     },
     "metadata": {
      "needs_background": "light"
     },
     "output_type": "display_data"
    }
   ],
   "source": [
    "fig, (ax0,ax1) = plt.subplots(nrows=1, ncols=2, sharex=False, figsize=set_size(LATEX_WIDTH, fraction=1.6, subplots=(1,2)))\n",
    "\n",
    "d1 = 1\n",
    "d2 = d1\n",
    "theta = .8\n",
    "Z1 = np.random.dirichlet(np.repeat(d1, k))\n",
    "Z2 = np.random.dirichlet(np.repeat(d2, n-k))\n",
    "\n",
    "mask = np.ones(n, dtype=bool)\n",
    "mask[I] = False\n",
    "\n",
    "w_hat = np.zeros(n)\n",
    "w_hat[I] = theta * Z1\n",
    "w_hat[I_not] = (1-theta) * Z2\n",
    "\n",
    "#plt.figure(figsize=set_size(LATEX_WIDTH, fraction=1., subplots=(1,1)))\n",
    "ax0.plot(I, w_true[I], color=blue)\n",
    "ax0.plot(I_not, w_true[mask], color=blue)\n",
    "ax0.plot(w_hat, ls='', marker='o', color='black', markersize=2)\n",
    "ax0.set_title(f'$\\\\theta={theta},~d_1=d_2={d1}$')\n",
    "#plt.plot(I, np.repeat(w_hat[I].mean(), len(I)), color=grey, ls='--')\n",
    "#plt.plot(I_not, np.repeat(w_hat[I_not].mean(), len(I_not)), color=grey, ls='--')\n",
    "ax0.set_ylim(-0.01,0.51)\n",
    "ax0.set_ylabel(\"$\\\\omega_i$\", fontsize=15)\n",
    "_ = ax0.set_xticks(np.arange(0,20,2), np.arange(0,20,2)+1)\n",
    "ax0.set_xlabel(\"$i$\", fontsize=15)\n",
    "\n",
    "d1 = 10\n",
    "d2 = d1\n",
    "theta = .4\n",
    "Z1 = np.random.dirichlet(np.repeat(d1, k))\n",
    "Z2 = np.random.dirichlet(np.repeat(d2, n-k))\n",
    "\n",
    "mask = np.ones(n, dtype=bool)\n",
    "mask[I] = False\n",
    "\n",
    "w_hat = np.zeros(n)\n",
    "w_hat[I] = theta * Z1\n",
    "w_hat[I_not] = (1-theta) * Z2\n",
    "\n",
    "#plt.figure(figsize=set_size(LATEX_WIDTH, fraction=1., subplots=(1,1)))\n",
    "ax1.plot(I, w_true[I], color=blue)\n",
    "ax1.plot(I_not, w_true[mask], color=blue)\n",
    "ax1.plot(w_hat, ls='', marker='o', color='black', markersize=2)\n",
    "ax1.set_title(f'$\\\\theta={theta},~d_1=d_2={d1}$')\n",
    "#plt.plot(I, np.repeat(w_hat[I].mean(), len(I)), color=grey, ls='--')\n",
    "#plt.plot(I_not, np.repeat(w_hat[I_not].mean(), len(I_not)), color=grey, ls='--')\n",
    "ax1.set_ylim(-0.01,0.51)\n",
    "ax1.set_ylabel(\"$\\\\omega_i$\", fontsize=15)\n",
    "_ = ax1.set_xticks(np.arange(0,20,2), np.arange(0,20,2)+1)\n",
    "ax1.set_xlabel(\"$i$\", fontsize=15)\n",
    "\n",
    "#fig.savefig('./plots/weight_example_combined.pdf', bbox_inches='tight', pad_inches=0.1, dpi=1000)\n",
    "\n",
    "#plt.savefig(f'./plots/weight_example_theta_star={theta_s}_theta={theta}_d1={d1}_d2={d2}_n={n}_k={k}.pdf', bbox_inches='tight',pad_inches=0.1, dpi=1000)  "
   ]
  },
  {
   "cell_type": "code",
   "execution_count": 8,
   "id": "2f523d94-5b7a-4e38-9a74-c073cbf743f7",
   "metadata": {},
   "outputs": [],
   "source": [
    "def var_dir(k,d):\n",
    "    p1 = 1 / (k ** 2 * d + k)\n",
    "    p2 = 1 / (k ** 3 * d + k ** 2)\n",
    "    return p1 - p2"
   ]
  },
  {
   "cell_type": "code",
   "execution_count": 9,
   "id": "28c61768-e1b0-4a17-959f-d7c3a161f5c1",
   "metadata": {},
   "outputs": [
    {
     "data": {
      "text/plain": [
       "0.3999999999999999"
      ]
     },
     "execution_count": 9,
     "metadata": {},
     "output_type": "execute_result"
    }
   ],
   "source": [
    "w_hat[I].sum()"
   ]
  },
  {
   "cell_type": "code",
   "execution_count": 10,
   "id": "087688de-7dd8-488b-a3c5-46c04512c6d4",
   "metadata": {},
   "outputs": [],
   "source": [
    "def ese(theta_star, theta, n, k, d1, d2):\n",
    "    p1 = 2 * ( ((theta_star * theta) / k) + ((1-theta_star)*(1-theta))/((n-k)) )\n",
    "    \n",
    "    p2 = theta**2 / k + (1-theta)**2/(n-k)\n",
    "    \n",
    "    p3 = theta**2 * (k-1)/(k*(d1*k + 1))\n",
    "    \n",
    "    p4 = (1-theta)** 2 * (n-k-1)/((n-k)*(d2*(n-k) + 1))\n",
    "    \n",
    "    return 1 -p1+p2+p3+p4\n",
    "\n",
    "\n",
    "def ecrps(theta_star, theta, n, k, d1, d2):\n",
    "    \n",
    "    p1 = 2/np.sqrt(np.pi) * ( theta*(k-1) * (theta_star/k - d1*theta/(2*(d1*k + 1))) )\n",
    "    p2 = 2/np.sqrt(np.pi) * ( (1-theta)*(n-k-1) * ((1-theta_star)/(n-k) - d2 * (1-theta)/(2*(d2*(n-k)+1))) )\n",
    "    p3 = 2/np.sqrt(np.pi) * ( theta_star + theta**2 - 2*theta_star*theta )\n",
    "    \n",
    "    return p1 + p2 + p3\n",
    "\n",
    "def ecrps2(theta_star, theta, n, k, d1, d2):\n",
    "    \n",
    "    c1 = 2*(k*d1 + 1)\n",
    "    c2 = 2*((n-k)*d2 + 1)\n",
    "    c3 = n-k-1\n",
    "    \n",
    "    p1 = -((k-1)*d1)/c1 - (c3*d2)/c2 + 1\n",
    "    p2 = (theta_star * (k-1))/k - (c3*(1-theta_star))/(n-k) + (2*c3*d2)/c2 - 2*theta_star\n",
    "    p3 = c3 * ( (1-theta_star)/(n-k) - d2/c2 ) + theta_star\n",
    "    \n",
    "    return 2/np.sqrt(np.pi) * (theta**2 * p1 + theta * p2 + p3), 2/np.sqrt(np.pi)*p1, 2/np.sqrt(np.pi)*p2, 2/np.sqrt(np.pi)*p3\n",
    "               \n",
    "\n",
    "def ese2(theta_star, theta, n, k, d1, d2):\n",
    "    \n",
    "    c1 = (n-k)*((n-k)*d2 + 1)\n",
    "    c2 = n-k-1\n",
    "    c3 = c2/c1\n",
    "    \n",
    "    p1 = (1/k + 1/(n-k) + (k-1)/(k*(k*d1+1)) + c3) \n",
    "    p2 = (-4 + 2*theta_star)/(n-k) - 2*c3 - 2*theta_star/k \n",
    "    p3 = (3-2*theta_star)/(n-k) + c3\n",
    "    \n",
    "    return 1 - ((theta**2) * p1) + theta*p2 + p3\n",
    "\n",
    "def ese3(theta_star, theta, n, k, d1, d2):\n",
    "    \n",
    "    c1 = (n-k)*((n-k)*d2 + 1)\n",
    "    c2 = n-k-1\n",
    "    c3 = c2/c1\n",
    "    \n",
    "    p1 = 1/k + 1/(n-k) + (k-1)/(k*(k*d1 + 1)) + c3\n",
    "    p2 = 2 * ( -theta_star/k - theta_star/(n-k) - c3 )\n",
    "    p3 = (-1 + 2*theta_star)/(n-k) + c3 + 1\n",
    "    \n",
    "    return (theta**2) * p1 + (theta*p2) + p3, p1, p2, p3"
   ]
  },
  {
   "cell_type": "code",
   "execution_count": 11,
   "id": "c1d2b24b-5b8c-4c44-8a4c-bdc75d2d654b",
   "metadata": {},
   "outputs": [],
   "source": [
    "theta_x = np.linspace(0,1,1000)\n",
    "\n",
    "n = 1000\n",
    "k = 20\n",
    "I = np.arange(k)\n",
    "I_not = np.arange(I[-1]+1, n)\n",
    "theta_s = .8\n",
    "w_true = np.array([theta_s/k if i in I else (1-theta_s)/(n-k) for i in range(n)])\n",
    "\n",
    "d1 = 10\n",
    "d2 = 0.01\n",
    "theta = .8\n",
    "Z1 = np.random.dirichlet(np.repeat(d1, k))\n",
    "Z2 = np.random.dirichlet(np.repeat(d2, n-k))\n",
    "\n",
    "ese_res = np.array([ese(theta_s, t, n, k, d1, d2) for t in theta_x])\n",
    "ese_res2 = np.array([ese(theta_s, t, n, k, d1, 0.01) for t in theta_x])\n",
    "ecrps_res = np.array([ecrps(theta_s, t, n, k, d1, d2) for t in theta_x])\n",
    "ecrps_res2 = np.array([ecrps(theta_s, t, n, k, d1, 0.01) for t in theta_x])\n"
   ]
  },
  {
   "cell_type": "code",
   "execution_count": 12,
   "id": "53cf8530-e020-4bcb-bd41-fd7bbd55abae",
   "metadata": {},
   "outputs": [],
   "source": [
    "ese_res3 = np.array([ese(theta_s, .7, n, t, d1, .01) for t in np.arange(1,20)])\n"
   ]
  },
  {
   "cell_type": "code",
   "execution_count": 13,
   "id": "d2bddb6e-115c-4847-98b9-d54a3c963266",
   "metadata": {},
   "outputs": [
    {
     "data": {
      "text/plain": [
       "[<matplotlib.lines.Line2D at 0x7fa0bb869410>]"
      ]
     },
     "execution_count": 13,
     "metadata": {},
     "output_type": "execute_result"
    },
    {
     "data": {
      "image/png": "[encoded data removed]",
      "text/plain": [
       "<Figure size 453.543x280.305 with 1 Axes>"
      ]
     },
     "metadata": {
      "needs_background": "light"
     },
     "output_type": "display_data"
    }
   ],
   "source": [
    "plt.plot(ese_res3)"
   ]
  },
  {
   "cell_type": "code",
   "execution_count": 14,
   "id": "5e95c611-54d5-41cc-be3e-a26fb9618377",
   "metadata": {},
   "outputs": [
    {
     "data": {
      "text/plain": [
       "(4,)"
      ]
     },
     "execution_count": 14,
     "metadata": {},
     "output_type": "execute_result"
    }
   ],
   "source": [
    "np.array([ese3(theta_s, t, n, k, d1, d2) for t in theta_x])[0,:].shape"
   ]
  },
  {
   "cell_type": "code",
   "execution_count": 15,
   "id": "9383d01a-258a-40f7-8fb5-38742e626c5a",
   "metadata": {},
   "outputs": [],
   "source": [
    "ese2_tot = np.array([ese3(theta_s, t, n, k, d1, d2) for t in theta_x])\n",
    "ecrps2_tot = np.array([ecrps2(theta_s, t, n, k, d1, d2) for t in theta_x])\n",
    "ese2_res = ese2_tot[:,0]\n",
    "se_p1 = ese2_tot[:,1][0]\n",
    "se_p2 = ese2_tot[:,2][0]\n",
    "se_p3 = ese2_tot[:,3][0]\n",
    "ecrps2_res = ecrps2_tot[:,0]\n",
    "cr_p1 = ecrps2_tot[:,1][0]\n",
    "cr_p2 = ecrps2_tot[:,2][0]\n",
    "cr_p3 = ecrps2_tot[:,3][0]"
   ]
  },
  {
   "cell_type": "code",
   "execution_count": 16,
   "id": "78be895d-6aec-414c-bbed-d245143e734a",
   "metadata": {
    "scrolled": true,
    "tags": []
   },
   "outputs": [
    {
     "name": "stdout",
     "output_type": "stream",
     "text": [
      "0.08363822087778852 -0.1504292332550801 0.6167214761020499\n"
     ]
    }
   ],
   "source": [
    "print(cr_p1, cr_p2, cr_p3)"
   ]
  },
  {
   "cell_type": "code",
   "execution_count": 17,
   "id": "dfd55c14-979e-428f-b8c1-d5e05315f42e",
   "metadata": {
    "scrolled": true,
    "tags": []
   },
   "outputs": [
    {
     "name": "stdout",
     "output_type": "stream",
     "text": [
      "0.08363822087778852 -0.1504292332550801 0.6167214761020499\n"
     ]
    }
   ],
   "source": [
    "print(cr_p1, cr_p2, cr_p3)"
   ]
  },
  {
   "cell_type": "code",
   "execution_count": 18,
   "id": "7937ff50-821e-4b30-909d-2588333a9c44",
   "metadata": {
    "scrolled": true,
    "tags": []
   },
   "outputs": [
    {
     "name": "stdout",
     "output_type": "stream",
     "text": [
      "0.1482448866777225 -0.26662887377173095 1.0931103552532124\n"
     ]
    }
   ],
   "source": [
    "print(se_p1, se_p2, se_p3)"
   ]
  },
  {
   "cell_type": "code",
   "execution_count": 19,
   "id": "706b6c78-1a21-4c99-99b8-59e3d373823c",
   "metadata": {},
   "outputs": [
    {
     "data": {
      "text/plain": [
       "0.6167214761020499"
      ]
     },
     "execution_count": 19,
     "metadata": {},
     "output_type": "execute_result"
    }
   ],
   "source": [
    "se_p3 * (1/np.sqrt(np.pi))"
   ]
  },
  {
   "cell_type": "code",
   "execution_count": 20,
   "id": "22f21deb-3953-4a7e-bfd5-daa10a5771b0",
   "metadata": {},
   "outputs": [],
   "source": [
    "crps_f = lambda x: cr_p1 * x ** 2 + cr_p2 * x + cr_p3\n",
    "se_f = lambda x: se_p1 * x ** 2 + se_p2 * x + se_p3"
   ]
  },
  {
   "cell_type": "code",
   "execution_count": 21,
   "id": "fb910e9e-14bd-449f-8a4b-9442d3baa233",
   "metadata": {},
   "outputs": [
    {
     "data": {
      "text/plain": [
       "0.562416414693957"
      ]
     },
     "execution_count": 21,
     "metadata": {},
     "output_type": "execute_result"
    }
   ],
   "source": [
    "crps_f(.5)"
   ]
  },
  {
   "cell_type": "code",
   "execution_count": 22,
   "id": "ee9efbe0-a9ae-4f63-87aa-6178c2a9a129",
   "metadata": {},
   "outputs": [
    {
     "data": {
      "text/plain": [
       "0.9968571400367776"
      ]
     },
     "execution_count": 22,
     "metadata": {},
     "output_type": "execute_result"
    }
   ],
   "source": [
    "se_f(.5)"
   ]
  },
  {
   "cell_type": "code",
   "execution_count": 23,
   "id": "f3bbaaa9-7776-4920-bdb7-26df93ecbf2f",
   "metadata": {},
   "outputs": [
    {
     "data": {
      "text/plain": [
       "True"
      ]
     },
     "execution_count": 23,
     "metadata": {},
     "output_type": "execute_result"
    }
   ],
   "source": [
    "crps_f(.5) == 1/np.sqrt(np.pi) * se_f(.5)"
   ]
  },
  {
   "cell_type": "code",
   "execution_count": 24,
   "id": "40aed22b-4c36-4047-8952-4c24efe3ffa6",
   "metadata": {},
   "outputs": [],
   "source": [
    "crps_p = lambda x: 2 * cr_p1 * x + cr_p2 "
   ]
  },
  {
   "cell_type": "code",
   "execution_count": 25,
   "id": "5b21a9da-bf88-41f4-9ac2-461176c11666",
   "metadata": {},
   "outputs": [],
   "source": [
    "se_p = lambda x: 2*x*se_p1 + 2*se_p2"
   ]
  },
  {
   "cell_type": "code",
   "execution_count": 26,
   "id": "277ff7f0-b7c9-4963-bdda-f4c584bdaae3",
   "metadata": {},
   "outputs": [],
   "source": [
    "a = [crps_p(t) for t in theta_x]\n",
    "b = [se_p(t) for t in theta_x]"
   ]
  },
  {
   "cell_type": "code",
   "execution_count": 27,
   "id": "b0f6e193-15b2-4505-8c65-558184ea00af",
   "metadata": {},
   "outputs": [
    {
     "data": {
      "text/plain": [
       "[<matplotlib.lines.Line2D at 0x7fa0bb79f6d0>]"
      ]
     },
     "execution_count": 27,
     "metadata": {},
     "output_type": "execute_result"
    },
    {
     "data": {
      "image/png": "[encoded data removed]",
      "text/plain": [
       "<Figure size 453.543x280.305 with 1 Axes>"
      ]
     },
     "metadata": {
      "needs_background": "light"
     },
     "output_type": "display_data"
    }
   ],
   "source": [
    "plt.plot(a)\n",
    "plt.plot(b)"
   ]
  },
  {
   "cell_type": "code",
   "execution_count": 28,
   "id": "c8c99a55-66f1-415a-aa46-773c0501d738",
   "metadata": {},
   "outputs": [
    {
     "data": {
      "text/plain": [
       "True"
      ]
     },
     "execution_count": 28,
     "metadata": {},
     "output_type": "execute_result"
    }
   ],
   "source": [
    "np.allclose(ese_res, ese2_res)"
   ]
  },
  {
   "cell_type": "code",
   "execution_count": 29,
   "id": "1ef3850b-b415-415e-a6d2-64bb73d78d9c",
   "metadata": {},
   "outputs": [
    {
     "data": {
      "text/plain": [
       "True"
      ]
     },
     "execution_count": 29,
     "metadata": {},
     "output_type": "execute_result"
    }
   ],
   "source": [
    "np.allclose(ecrps_res, ecrps2_res)"
   ]
  },
  {
   "cell_type": "code",
   "execution_count": 30,
   "id": "4253f5d6-e0e8-4d16-ad82-311550207dc1",
   "metadata": {
    "scrolled": true,
    "tags": []
   },
   "outputs": [
    {
     "data": {
      "text/plain": [
       "array([0.56418958, 0.56418958, 0.56418958, 0.56418958, 0.56418958,\n",
       "       0.56418958, 0.56418958, 0.56418958, 0.56418958, 0.56418958,\n",
       "       0.56418958, 0.56418958, 0.56418958, 0.56418958, 0.56418958,\n",
       "       0.56418958, 0.56418958, 0.56418958, 0.56418958, 0.56418958,\n",
       "       0.56418958, 0.56418958, 0.56418958, 0.56418958, 0.56418958,\n",
       "       0.56418958, 0.56418958, 0.56418958, 0.56418958, 0.56418958,\n",
       "       0.56418958, 0.56418958, 0.56418958, 0.56418958, 0.56418958,\n",
       "       0.56418958, 0.56418958, 0.56418958, 0.56418958, 0.56418958,\n",
       "       0.56418958, 0.56418958, 0.56418958, 0.56418958, 0.56418958,\n",
       "       0.56418958, 0.56418958, 0.56418958, 0.56418958, 0.56418958,\n",
       "       0.56418958, 0.56418958, 0.56418958, 0.56418958, 0.56418958,\n",
       "       0.56418958, 0.56418958, 0.56418958, 0.56418958, 0.56418958,\n",
       "       0.56418958, 0.56418958, 0.56418958, 0.56418958, 0.56418958,\n",
       "       0.56418958, 0.56418958, 0.56418958, 0.56418958, 0.56418958,\n",
       "       0.56418958, 0.56418958, 0.56418958, 0.56418958, 0.56418958,\n",
       "       0.56418958, 0.56418958, 0.56418958, 0.56418958, 0.56418958,\n",
       "       0.56418958, 0.56418958, 0.56418958, 0.56418958, 0.56418958,\n",
       "       0.56418958, 0.56418958, 0.56418958, 0.56418958, 0.56418958,\n",
       "       0.56418958, 0.56418958, 0.56418958, 0.56418958, 0.56418958,\n",
       "       0.56418958, 0.56418958, 0.56418958, 0.56418958, 0.56418958,\n",
       "       0.56418958, 0.56418958, 0.56418958, 0.56418958, 0.56418958,\n",
       "       0.56418958, 0.56418958, 0.56418958, 0.56418958, 0.56418958,\n",
       "       0.56418958, 0.56418958, 0.56418958, 0.56418958, 0.56418958,\n",
       "       0.56418958, 0.56418958, 0.56418958, 0.56418958, 0.56418958,\n",
       "       0.56418958, 0.56418958, 0.56418958, 0.56418958, 0.56418958,\n",
       "       0.56418958, 0.56418958, 0.56418958, 0.56418958, 0.56418958,\n",
       "       0.56418958, 0.56418958, 0.56418958, 0.56418958, 0.56418958,\n",
       "       0.56418958, 0.56418958, 0.56418958, 0.56418958, 0.56418958,\n",
       "       0.56418958, 0.56418958, 0.56418958, 0.56418958, 0.56418958,\n",
       "       0.56418958, 0.56418958, 0.56418958, 0.56418958, 0.56418958,\n",
       "       0.56418958, 0.56418958, 0.56418958, 0.56418958, 0.56418958,\n",
       "       0.56418958, 0.56418958, 0.56418958, 0.56418958, 0.56418958,\n",
       "       0.56418958, 0.56418958, 0.56418958, 0.56418958, 0.56418958,\n",
       "       0.56418958, 0.56418958, 0.56418958, 0.56418958, 0.56418958,\n",
       "       0.56418958, 0.56418958, 0.56418958, 0.56418958, 0.56418958,\n",
       "       0.56418958, 0.56418958, 0.56418958, 0.56418958, 0.56418958,\n",
       "       0.56418958, 0.56418958, 0.56418958, 0.56418958, 0.56418958,\n",
       "       0.56418958, 0.56418958, 0.56418958, 0.56418958, 0.56418958,\n",
       "       0.56418958, 0.56418958, 0.56418958, 0.56418958, 0.56418958,\n",
       "       0.56418958, 0.56418958, 0.56418958, 0.56418958, 0.56418958,\n",
       "       0.56418958, 0.56418958, 0.56418958, 0.56418958, 0.56418958,\n",
       "       0.56418958, 0.56418958, 0.56418958, 0.56418958, 0.56418958,\n",
       "       0.56418958, 0.56418958, 0.56418958, 0.56418958, 0.56418958,\n",
       "       0.56418958, 0.56418958, 0.56418958, 0.56418958, 0.56418958,\n",
       "       0.56418958, 0.56418958, 0.56418958, 0.56418958, 0.56418958,\n",
       "       0.56418958, 0.56418958, 0.56418958, 0.56418958, 0.56418958,\n",
       "       0.56418958, 0.56418958, 0.56418958, 0.56418958, 0.56418958,\n",
       "       0.56418958, 0.56418958, 0.56418958, 0.56418958, 0.56418958,\n",
       "       0.56418958, 0.56418958, 0.56418958, 0.56418958, 0.56418958,\n",
       "       0.56418958, 0.56418958, 0.56418958, 0.56418958, 0.56418958,\n",
       "       0.56418958, 0.56418958, 0.56418958, 0.56418958, 0.56418958,\n",
       "       0.56418958, 0.56418958, 0.56418958, 0.56418958, 0.56418958,\n",
       "       0.56418958, 0.56418958, 0.56418958, 0.56418958, 0.56418958,\n",
       "       0.56418958, 0.56418958, 0.56418958, 0.56418958, 0.56418958,\n",
       "       0.56418958, 0.56418958, 0.56418958, 0.56418958, 0.56418958,\n",
       "       0.56418958, 0.56418958, 0.56418958, 0.56418958, 0.56418958,\n",
       "       0.56418958, 0.56418958, 0.56418958, 0.56418958, 0.56418958,\n",
       "       0.56418958, 0.56418958, 0.56418958, 0.56418958, 0.56418958,\n",
       "       0.56418958, 0.56418958, 0.56418958, 0.56418958, 0.56418958,\n",
       "       0.56418958, 0.56418958, 0.56418958, 0.56418958, 0.56418958,\n",
       "       0.56418958, 0.56418958, 0.56418958, 0.56418958, 0.56418958,\n",
       "       0.56418958, 0.56418958, 0.56418958, 0.56418958, 0.56418958,\n",
       "       0.56418958, 0.56418958, 0.56418958, 0.56418958, 0.56418958,\n",
       "       0.56418958, 0.56418958, 0.56418958, 0.56418958, 0.56418958,\n",
       "       0.56418958, 0.56418958, 0.56418958, 0.56418958, 0.56418958,\n",
       "       0.56418958, 0.56418958, 0.56418958, 0.56418958, 0.56418958,\n",
       "       0.56418958, 0.56418958, 0.56418958, 0.56418958, 0.56418958,\n",
       "       0.56418958, 0.56418958, 0.56418958, 0.56418958, 0.56418958,\n",
       "       0.56418958, 0.56418958, 0.56418958, 0.56418958, 0.56418958,\n",
       "       0.56418958, 0.56418958, 0.56418958, 0.56418958, 0.56418958,\n",
       "       0.56418958, 0.56418958, 0.56418958, 0.56418958, 0.56418958,\n",
       "       0.56418958, 0.56418958, 0.56418958, 0.56418958, 0.56418958,\n",
       "       0.56418958, 0.56418958, 0.56418958, 0.56418958, 0.56418958,\n",
       "       0.56418958, 0.56418958, 0.56418958, 0.56418958, 0.56418958,\n",
       "       0.56418958, 0.56418958, 0.56418958, 0.56418958, 0.56418958,\n",
       "       0.56418958, 0.56418958, 0.56418958, 0.56418958, 0.56418958,\n",
       "       0.56418958, 0.56418958, 0.56418958, 0.56418958, 0.56418958,\n",
       "       0.56418958, 0.56418958, 0.56418958, 0.56418958, 0.56418958,\n",
       "       0.56418958, 0.56418958, 0.56418958, 0.56418958, 0.56418958,\n",
       "       0.56418958, 0.56418958, 0.56418958, 0.56418958, 0.56418958,\n",
       "       0.56418958, 0.56418958, 0.56418958, 0.56418958, 0.56418958,\n",
       "       0.56418958, 0.56418958, 0.56418958, 0.56418958, 0.56418958,\n",
       "       0.56418958, 0.56418958, 0.56418958, 0.56418958, 0.56418958,\n",
       "       0.56418958, 0.56418958, 0.56418958, 0.56418958, 0.56418958,\n",
       "       0.56418958, 0.56418958, 0.56418958, 0.56418958, 0.56418958,\n",
       "       0.56418958, 0.56418958, 0.56418958, 0.56418958, 0.56418958,\n",
       "       0.56418958, 0.56418958, 0.56418958, 0.56418958, 0.56418958,\n",
       "       0.56418958, 0.56418958, 0.56418958, 0.56418958, 0.56418958,\n",
       "       0.56418958, 0.56418958, 0.56418958, 0.56418958, 0.56418958,\n",
       "       0.56418958, 0.56418958, 0.56418958, 0.56418958, 0.56418958,\n",
       "       0.56418958, 0.56418958, 0.56418958, 0.56418958, 0.56418958,\n",
       "       0.56418958, 0.56418958, 0.56418958, 0.56418958, 0.56418958,\n",
       "       0.56418958, 0.56418958, 0.56418958, 0.56418958, 0.56418958,\n",
       "       0.56418958, 0.56418958, 0.56418958, 0.56418958, 0.56418958,\n",
       "       0.56418958, 0.56418958, 0.56418958, 0.56418958, 0.56418958,\n",
       "       0.56418958, 0.56418958, 0.56418958, 0.56418958, 0.56418958,\n",
       "       0.56418958, 0.56418958, 0.56418958, 0.56418958, 0.56418958,\n",
       "       0.56418958, 0.56418958, 0.56418958, 0.56418958, 0.56418958,\n",
       "       0.56418958, 0.56418958, 0.56418958, 0.56418958, 0.56418958,\n",
       "       0.56418958, 0.56418958, 0.56418958, 0.56418958, 0.56418958,\n",
       "       0.56418958, 0.56418958, 0.56418958, 0.56418958, 0.56418958,\n",
       "       0.56418958, 0.56418958, 0.56418958, 0.56418958, 0.56418958,\n",
       "       0.56418958, 0.56418958, 0.56418958, 0.56418958, 0.56418958,\n",
       "       0.56418958, 0.56418958, 0.56418958, 0.56418958, 0.56418958,\n",
       "       0.56418958, 0.56418958, 0.56418958, 0.56418958, 0.56418958,\n",
       "       0.56418958, 0.56418958, 0.56418958, 0.56418958, 0.56418958,\n",
       "       0.56418958, 0.56418958, 0.56418958, 0.56418958, 0.56418958,\n",
       "       0.56418958, 0.56418958, 0.56418958, 0.56418958, 0.56418958,\n",
       "       0.56418958, 0.56418958, 0.56418958, 0.56418958, 0.56418958,\n",
       "       0.56418958, 0.56418958, 0.56418958, 0.56418958, 0.56418958,\n",
       "       0.56418958, 0.56418958, 0.56418958, 0.56418958, 0.56418958,\n",
       "       0.56418958, 0.56418958, 0.56418958, 0.56418958, 0.56418958,\n",
       "       0.56418958, 0.56418958, 0.56418958, 0.56418958, 0.56418958,\n",
       "       0.56418958, 0.56418958, 0.56418958, 0.56418958, 0.56418958,\n",
       "       0.56418958, 0.56418958, 0.56418958, 0.56418958, 0.56418958,\n",
       "       0.56418958, 0.56418958, 0.56418958, 0.56418958, 0.56418958,\n",
       "       0.56418958, 0.56418958, 0.56418958, 0.56418958, 0.56418958,\n",
       "       0.56418958, 0.56418958, 0.56418958, 0.56418958, 0.56418958,\n",
       "       0.56418958, 0.56418958, 0.56418958, 0.56418958, 0.56418958,\n",
       "       0.56418958, 0.56418958, 0.56418958, 0.56418958, 0.56418958,\n",
       "       0.56418958, 0.56418958, 0.56418958, 0.56418958, 0.56418958,\n",
       "       0.56418958, 0.56418958, 0.56418958, 0.56418958, 0.56418958,\n",
       "       0.56418958, 0.56418958, 0.56418958, 0.56418958, 0.56418958,\n",
       "       0.56418958, 0.56418958, 0.56418958, 0.56418958, 0.56418958,\n",
       "       0.56418958, 0.56418958, 0.56418958, 0.56418958, 0.56418958,\n",
       "       0.56418958, 0.56418958, 0.56418958, 0.56418958, 0.56418958,\n",
       "       0.56418958, 0.56418958, 0.56418958, 0.56418958, 0.56418958,\n",
       "       0.56418958, 0.56418958, 0.56418958, 0.56418958, 0.56418958,\n",
       "       0.56418958, 0.56418958, 0.56418958, 0.56418958, 0.56418958,\n",
       "       0.56418958, 0.56418958, 0.56418958, 0.56418958, 0.56418958,\n",
       "       0.56418958, 0.56418958, 0.56418958, 0.56418958, 0.56418958,\n",
       "       0.56418958, 0.56418958, 0.56418958, 0.56418958, 0.56418958,\n",
       "       0.56418958, 0.56418958, 0.56418958, 0.56418958, 0.56418958,\n",
       "       0.56418958, 0.56418958, 0.56418958, 0.56418958, 0.56418958,\n",
       "       0.56418958, 0.56418958, 0.56418958, 0.56418958, 0.56418958,\n",
       "       0.56418958, 0.56418958, 0.56418958, 0.56418958, 0.56418958,\n",
       "       0.56418958, 0.56418958, 0.56418958, 0.56418958, 0.56418958,\n",
       "       0.56418958, 0.56418958, 0.56418958, 0.56418958, 0.56418958,\n",
       "       0.56418958, 0.56418958, 0.56418958, 0.56418958, 0.56418958,\n",
       "       0.56418958, 0.56418958, 0.56418958, 0.56418958, 0.56418958,\n",
       "       0.56418958, 0.56418958, 0.56418958, 0.56418958, 0.56418958,\n",
       "       0.56418958, 0.56418958, 0.56418958, 0.56418958, 0.56418958,\n",
       "       0.56418958, 0.56418958, 0.56418958, 0.56418958, 0.56418958,\n",
       "       0.56418958, 0.56418958, 0.56418958, 0.56418958, 0.56418958,\n",
       "       0.56418958, 0.56418958, 0.56418958, 0.56418958, 0.56418958,\n",
       "       0.56418958, 0.56418958, 0.56418958, 0.56418958, 0.56418958,\n",
       "       0.56418958, 0.56418958, 0.56418958, 0.56418958, 0.56418958,\n",
       "       0.56418958, 0.56418958, 0.56418958, 0.56418958, 0.56418958,\n",
       "       0.56418958, 0.56418958, 0.56418958, 0.56418958, 0.56418958,\n",
       "       0.56418958, 0.56418958, 0.56418958, 0.56418958, 0.56418958,\n",
       "       0.56418958, 0.56418958, 0.56418958, 0.56418958, 0.56418958,\n",
       "       0.56418958, 0.56418958, 0.56418958, 0.56418958, 0.56418958,\n",
       "       0.56418958, 0.56418958, 0.56418958, 0.56418958, 0.56418958,\n",
       "       0.56418958, 0.56418958, 0.56418958, 0.56418958, 0.56418958,\n",
       "       0.56418958, 0.56418958, 0.56418958, 0.56418958, 0.56418958,\n",
       "       0.56418958, 0.56418958, 0.56418958, 0.56418958, 0.56418958,\n",
       "       0.56418958, 0.56418958, 0.56418958, 0.56418958, 0.56418958,\n",
       "       0.56418958, 0.56418958, 0.56418958, 0.56418958, 0.56418958,\n",
       "       0.56418958, 0.56418958, 0.56418958, 0.56418958, 0.56418958,\n",
       "       0.56418958, 0.56418958, 0.56418958, 0.56418958, 0.56418958,\n",
       "       0.56418958, 0.56418958, 0.56418958, 0.56418958, 0.56418958,\n",
       "       0.56418958, 0.56418958, 0.56418958, 0.56418958, 0.56418958,\n",
       "       0.56418958, 0.56418958, 0.56418958, 0.56418958, 0.56418958,\n",
       "       0.56418958, 0.56418958, 0.56418958, 0.56418958, 0.56418958,\n",
       "       0.56418958, 0.56418958, 0.56418958, 0.56418958, 0.56418958,\n",
       "       0.56418958, 0.56418958, 0.56418958, 0.56418958, 0.56418958,\n",
       "       0.56418958, 0.56418958, 0.56418958, 0.56418958, 0.56418958,\n",
       "       0.56418958, 0.56418958, 0.56418958, 0.56418958, 0.56418958,\n",
       "       0.56418958, 0.56418958, 0.56418958, 0.56418958, 0.56418958,\n",
       "       0.56418958, 0.56418958, 0.56418958, 0.56418958, 0.56418958,\n",
       "       0.56418958, 0.56418958, 0.56418958, 0.56418958, 0.56418958,\n",
       "       0.56418958, 0.56418958, 0.56418958, 0.56418958, 0.56418958,\n",
       "       0.56418958, 0.56418958, 0.56418958, 0.56418958, 0.56418958,\n",
       "       0.56418958, 0.56418958, 0.56418958, 0.56418958, 0.56418958,\n",
       "       0.56418958, 0.56418958, 0.56418958, 0.56418958, 0.56418958,\n",
       "       0.56418958, 0.56418958, 0.56418958, 0.56418958, 0.56418958,\n",
       "       0.56418958, 0.56418958, 0.56418958, 0.56418958, 0.56418958,\n",
       "       0.56418958, 0.56418958, 0.56418958, 0.56418958, 0.56418958,\n",
       "       0.56418958, 0.56418958, 0.56418958, 0.56418958, 0.56418958,\n",
       "       0.56418958, 0.56418958, 0.56418958, 0.56418958, 0.56418958,\n",
       "       0.56418958, 0.56418958, 0.56418958, 0.56418958, 0.56418958,\n",
       "       0.56418958, 0.56418958, 0.56418958, 0.56418958, 0.56418958,\n",
       "       0.56418958, 0.56418958, 0.56418958, 0.56418958, 0.56418958,\n",
       "       0.56418958, 0.56418958, 0.56418958, 0.56418958, 0.56418958,\n",
       "       0.56418958, 0.56418958, 0.56418958, 0.56418958, 0.56418958,\n",
       "       0.56418958, 0.56418958, 0.56418958, 0.56418958, 0.56418958,\n",
       "       0.56418958, 0.56418958, 0.56418958, 0.56418958, 0.56418958,\n",
       "       0.56418958, 0.56418958, 0.56418958, 0.56418958, 0.56418958,\n",
       "       0.56418958, 0.56418958, 0.56418958, 0.56418958, 0.56418958,\n",
       "       0.56418958, 0.56418958, 0.56418958, 0.56418958, 0.56418958,\n",
       "       0.56418958, 0.56418958, 0.56418958, 0.56418958, 0.56418958,\n",
       "       0.56418958, 0.56418958, 0.56418958, 0.56418958, 0.56418958,\n",
       "       0.56418958, 0.56418958, 0.56418958, 0.56418958, 0.56418958,\n",
       "       0.56418958, 0.56418958, 0.56418958, 0.56418958, 0.56418958,\n",
       "       0.56418958, 0.56418958, 0.56418958, 0.56418958, 0.56418958,\n",
       "       0.56418958, 0.56418958, 0.56418958, 0.56418958, 0.56418958,\n",
       "       0.56418958, 0.56418958, 0.56418958, 0.56418958, 0.56418958,\n",
       "       0.56418958, 0.56418958, 0.56418958, 0.56418958, 0.56418958,\n",
       "       0.56418958, 0.56418958, 0.56418958, 0.56418958, 0.56418958,\n",
       "       0.56418958, 0.56418958, 0.56418958, 0.56418958, 0.56418958])"
      ]
     },
     "execution_count": 30,
     "metadata": {},
     "output_type": "execute_result"
    }
   ],
   "source": [
    "ecrps_res / ese_res"
   ]
  },
  {
   "cell_type": "code",
   "execution_count": 31,
   "id": "8baed01e-a452-40e3-962c-a11ba3f0d9ae",
   "metadata": {},
   "outputs": [
    {
     "data": {
      "text/plain": [
       "True"
      ]
     },
     "execution_count": 31,
     "metadata": {},
     "output_type": "execute_result"
    }
   ],
   "source": [
    "np.allclose(ecrps_res , ese_res * 1/np.sqrt(np.pi))"
   ]
  },
  {
   "cell_type": "code",
   "execution_count": 32,
   "id": "53e10039-fbe6-4ccd-aa4c-9c6156678e74",
   "metadata": {},
   "outputs": [
    {
     "data": {
      "text/plain": [
       "[<matplotlib.lines.Line2D at 0x7fa0bb711050>]"
      ]
     },
     "execution_count": 32,
     "metadata": {},
     "output_type": "execute_result"
    },
    {
     "data": {
      "image/png": "[encoded data removed]",
      "text/plain": [
       "<Figure size 453.543x280.305 with 1 Axes>"
      ]
     },
     "metadata": {
      "needs_background": "light"
     },
     "output_type": "display_data"
    }
   ],
   "source": [
    "plt.plot(ecrps_res)\n",
    "plt.plot(ese_res)"
   ]
  },
  {
   "cell_type": "code",
   "execution_count": 33,
   "id": "307148c9-ce20-4248-b037-250b51271802",
   "metadata": {},
   "outputs": [
    {
     "data": {
      "text/plain": [
       "Text(0.5, 0, '$\\\\theta$')"
      ]
     },
     "execution_count": 33,
     "metadata": {},
     "output_type": "execute_result"
    },
    {
     "data": {
      "image/png": "[encoded data removed]",
      "text/plain": [
       "<Figure size 725.669x224.244 with 2 Axes>"
      ]
     },
     "metadata": {
      "needs_background": "light"
     },
     "output_type": "display_data"
    }
   ],
   "source": [
    "fig, (ax1, ax2) = plt.subplots(ncols=2, figsize=set_size(LATEX_WIDTH, fraction=1.6, subplots=(1,2)))\n",
    "ax1.plot(theta_x, ese_res, color=blue)\n",
    "ax1.fill_between(theta_x, min(ese_res), max(ese_res), where=(ese_res > ese_res[-1]), color='grey', alpha=0.5)\n",
    "ax1.axvline(theta_x[np.argmin(ese_res)], color='black', linewidth=1, zorder=-2)\n",
    "ax1.axvline(theta_s, color='black', ls='--', linewidth=1, zorder=-1)\n",
    "ax1.set_ylabel(\"Expected SE\")\n",
    "ax1.set_title(\"$d_2 = 1000$\")\n",
    "ax1.set_xlabel(\"$\\\\theta$\")\n",
    "\n",
    "ax2.plot(theta_x, ese_res2, color=blue)\n",
    "ax2.fill_between(theta_x, min(ese_res2), max(ese_res2), where=(ese_res2 > ese_res2[-1]), color='grey', alpha=0.5)\n",
    "ax2.axvline(theta_x[np.argmin(ese_res2)], color='black', linewidth=1, zorder=-2, ls='--')\n",
    "ax2.axvline(theta_s, color='black', ls='-', linewidth=1, zorder=-1)\n",
    "ax2.set_ylabel(\"Expected SE\")\n",
    "ax2.set_title(\"$d_2 = 0.01$\")\n",
    "ax2.set_xlabel(\"$\\\\theta$\")\n",
    "#plt.savefig(f'./plots/SE_theta_star={theta_s}_d1={d1}_d2={d2},001_n={n}_k={k}.pdf', bbox_inches='tight',pad_inches=0.1, dpi=1000)  "
   ]
  },
  {
   "cell_type": "code",
   "execution_count": 34,
   "id": "e3699e99-35e7-4edf-b312-b48fd2727e06",
   "metadata": {},
   "outputs": [
    {
     "data": {
      "text/plain": [
       "1.1283791670955126"
      ]
     },
     "execution_count": 34,
     "metadata": {},
     "output_type": "execute_result"
    }
   ],
   "source": [
    "2 / np.sqrt(np.pi)"
   ]
  },
  {
   "cell_type": "code",
   "execution_count": 35,
   "id": "0f1ea185-0201-4bd3-b4aa-f23e96915606",
   "metadata": {},
   "outputs": [
    {
     "data": {
      "text/plain": [
       "Text(0.5, 0, '$\\\\theta$')"
      ]
     },
     "execution_count": 35,
     "metadata": {},
     "output_type": "execute_result"
    },
    {
     "data": {
      "image/png": "[encoded data removed]",
      "text/plain": [
       "<Figure size 725.669x224.244 with 2 Axes>"
      ]
     },
     "metadata": {
      "needs_background": "light"
     },
     "output_type": "display_data"
    }
   ],
   "source": [
    "fig, (ax1, ax2) = plt.subplots(ncols=2, figsize=set_size(LATEX_WIDTH, fraction=1.6, subplots=(1,2)))\n",
    "ax1.plot(theta_x, ese_res, color=blue)\n",
    "ax1.plot(theta_x, ecrps_res, color=green)\n",
    "ax1.fill_between(theta_x, min(ese_res), max(ese_res), where=(ese_res > ese_res[-1]), color='grey', alpha=0.5)\n",
    "ax1.axvline(theta_x[np.argmin(ese_res)], color='black', linewidth=1, zorder=-2)\n",
    "ax1.axvline(theta_s, color='black', ls='--', linewidth=1, zorder=-1)\n",
    "ax1.set_ylabel(\"Expected SE\")\n",
    "ax1.set_title(\"$d_2 = 1000$\")\n",
    "ax1.set_xlabel(\"$\\\\theta$\")\n",
    "\n",
    "ax2.plot(theta_x, ese_res2, color=blue)\n",
    "ax2.fill_between(theta_x, min(ese_res2), max(ese_res2), where=(ese_res2 > ese_res2[-1]), color='grey', alpha=0.5)\n",
    "ax2.axvline(theta_x[np.argmin(ese_res2)], color='black', linewidth=1, zorder=-2, ls='--')\n",
    "ax2.axvline(theta_s, color='black', ls='-', linewidth=1, zorder=-1)\n",
    "ax2.set_ylabel(\"Expected SE\")\n",
    "ax2.set_title(\"$d_2 = 0.01$\")\n",
    "ax2.set_xlabel(\"$\\\\theta$\")\n",
    "#plt.savefig(f'./plots/SE_theta_star={theta_s}_d1={d1}_d2={d2},001_n={n}_k={k}.pdf', bbox_inches='tight',pad_inches=0.1, dpi=1000)  "
   ]
  },
  {
   "cell_type": "code",
   "execution_count": 36,
   "id": "cdb89a83-3a82-4634-a8b2-c657a7ea849a",
   "metadata": {},
   "outputs": [
    {
     "data": {
      "text/plain": [
       "Text(0.5, 0, '$\\\\theta$')"
      ]
     },
     "execution_count": 36,
     "metadata": {},
     "output_type": "execute_result"
    },
    {
     "data": {
      "image/png": "[encoded data removed]",
      "text/plain": [
       "<Figure size 2086.3x322.351 with 4 Axes>"
      ]
     },
     "metadata": {
      "needs_background": "light"
     },
     "output_type": "display_data"
    }
   ],
   "source": [
    "fig, (ax1, ax2, ax3, ax4) = plt.subplots(ncols=4, figsize=set_size(LATEX_WIDTH, fraction=4.6, subplots=(1,4)))\n",
    "\n",
    "ese_res = np.array([ese(theta_s, t, n, k, d1, d2) for t in theta_x])\n",
    "ese_res2 = np.array([ese(0.95, t, n, k, d1, d2) for t in theta_x])\n",
    "ese_res3 = np.array([ese(theta_s, t, n, k, d1*10, d2) for t in theta_x])\n",
    "ese_res4 = np.array([ese(theta_s, t, n, k, d1, 0.01) for t in theta_x])\n",
    "\n",
    "\n",
    "ax1.plot(theta_x, ese_res, color=blue)\n",
    "ax1.fill_between(theta_x, min(ese_res), max(ese_res), where=(ese_res > ese_res[-1]), color='grey', alpha=0.5)\n",
    "ax1.axvline(theta_x[np.argmin(ese_res)], color='black', linewidth=1, zorder=-2)\n",
    "ax1.axvline(theta_s, color='black', ls='--', linewidth=1, zorder=-1)\n",
    "ax1.set_ylabel(\"Expected SE\")\n",
    "ax1.set_title(\"Standard Approach $\\\\theta = \\\\theta^*$\")\n",
    "ax1.set_xlabel(\"$\\\\theta$\")\n",
    "\n",
    "ax2.plot(theta_x, ese_res2, color=blue)\n",
    "ax2.fill_between(theta_x, min(ese_res2), max(ese_res2), where=(ese_res2 > ese_res2[-1]), color='grey', alpha=0.5)\n",
    "ax2.axvline(theta_x[np.argmin(ese_res2)], color='black', linewidth=1, zorder=-2, ls='--')\n",
    "ax2.axvline(theta_s, color='black', ls='-', linewidth=1, zorder=-1)\n",
    "ax2.set_ylabel(\"Expected SE\")\n",
    "ax2.set_title(\"$\\\\theta^*$ close to 1\")\n",
    "ax2.set_xlabel(\"$\\\\theta$\")\n",
    "\n",
    "ax3.plot(theta_x, ese_res3, color=blue)\n",
    "ax3.fill_between(theta_x, min(ese_res3), max(ese_res3), where=(ese_res3 > ese_res3[-1]), color='grey', alpha=0.5)\n",
    "ax3.axvline(theta_x[np.argmin(ese_res3)], color='black', linewidth=1, zorder=-2, ls='--')\n",
    "ax3.axvline(theta_s, color='black', ls='-', linewidth=1, zorder=-1)\n",
    "ax3.set_ylabel(\"Expected SE\")\n",
    "ax3.set_title(\"$d_1$ very large\")\n",
    "ax3.set_xlabel(\"$\\\\theta$\")\n",
    "\n",
    "ax4.plot(theta_x, ese_res4, color=blue)\n",
    "ax4.fill_between(theta_x, min(ese_res4), max(ese_res4), where=(ese_res4 > ese_res4[-1]), color='grey', alpha=0.5)\n",
    "ax4.axvline(theta_x[np.argmin(ese_res4)], color='black', linewidth=1, zorder=-2, ls='--')\n",
    "ax4.axvline(theta_s, color='black', ls='-', linewidth=1, zorder=-1)\n",
    "ax4.set_ylabel(\"Expected SE\")\n",
    "ax4.set_title(\"$d_2$ very small\")\n",
    "ax4.set_xlabel(\"$\\\\theta$\")"
   ]
  },
  {
   "cell_type": "code",
   "execution_count": 37,
   "id": "cee9a75a-421d-44f9-8ad2-8e3e78cd6ec3",
   "metadata": {},
   "outputs": [
    {
     "data": {
      "text/plain": [
       "Text(0.5, 0, '$\\\\theta$')"
      ]
     },
     "execution_count": 37,
     "metadata": {},
     "output_type": "execute_result"
    },
    {
     "data": {
      "image/png": "[encoded data removed]",
      "text/plain": [
       "<Figure size 2086.3x644.702 with 2 Axes>"
      ]
     },
     "metadata": {
      "needs_background": "light"
     },
     "output_type": "display_data"
    }
   ],
   "source": [
    "thetastar_x = np.linspace(0,1,1000)\n",
    "theta = .6\n",
    "n = 100\n",
    "k = 5\n",
    "\n",
    "d1 = 1\n",
    "d2 = 1000\n",
    "\n",
    "Z1 = np.random.dirichlet(np.repeat(d1, k))\n",
    "Z2 = np.random.dirichlet(np.repeat(d2, n-k))\n",
    "\n",
    "ese_res = np.array([ese(t, 1, n, k, d1, d2) for t in thetastar_x])\n",
    "ese_res2 = np.array([ese(t, 1, n, k, d1, 0.01) for t in thetastar_x])\n",
    "\n",
    "fig, (ax1, ax2) = plt.subplots(ncols=2, figsize=set_size(LATEX_WIDTH, fraction=4.6, subplots=(1,2)))\n",
    "ax1.plot(theta_x, ese_res, color=blue)\n",
    "ax1.fill_between(theta_x, min(ese_res), max(ese_res), where=(ese_res > ese_res[-1]), color='grey', alpha=0.5)\n",
    "ax1.axvline(theta_x[np.argmin(ese_res)], color='black', linewidth=1, zorder=-2)\n",
    "ax1.axvline(theta_s, color='black', ls='--', linewidth=1, zorder=-1)\n",
    "ax1.set_ylabel(\"Expected SE\")\n",
    "ax1.set_title(\"$d_2 = 1000$\")\n",
    "ax1.set_xlabel(\"$\\\\theta$\")\n",
    "\n",
    "ax2.plot(theta_x, ese_res2, color=blue)\n",
    "ax2.fill_between(theta_x, min(ese_res2), max(ese_res2), where=(ese_res2 > ese_res2[-1]), color='grey', alpha=0.5)\n",
    "ax2.axvline(theta_x[np.argmin(ese_res2)], color='black', linewidth=1, zorder=-2, ls='--')\n",
    "ax2.axvline(theta_s, color='black', ls='-', linewidth=1, zorder=-1)\n",
    "ax2.set_ylabel(\"Expected SE\")\n",
    "ax2.set_title(\"$d_2 = 0.01$\")\n",
    "ax2.set_xlabel(\"$\\\\theta$\")"
   ]
  },
  {
   "cell_type": "code",
   "execution_count": 38,
   "id": "2105df3c-8f28-40c7-848b-9d6825ed862e",
   "metadata": {},
   "outputs": [
    {
     "data": {
      "image/png": "[encoded data removed]",
      "text/plain": [
       "<Figure size 725.669x224.244 with 2 Axes>"
      ]
     },
     "metadata": {
      "needs_background": "light"
     },
     "output_type": "display_data"
    }
   ],
   "source": [
    "fig, (ax1, ax2) = plt.subplots(ncols=2, figsize=set_size(LATEX_WIDTH, fraction=1.6, subplots=(1,2)))\n",
    "ax1.plot(theta_x, ecrps_res, color=blue)\n",
    "ax1.fill_between(theta_x, min(ecrps_res), max(ecrps_res), where=(ecrps_res > ecrps_res[-1]), color='grey', alpha=0.5)\n",
    "ax1.axvline(theta_x[np.argmin(ecrps_res)], color='black', linewidth=1, zorder=-2)\n",
    "ax1.axvline(theta_s, color='black', ls='--', linewidth=1, zorder=-1)\n",
    "ax1.set_ylabel(\"Expected CRPS\")\n",
    "ax1.set_title(\"$d_2 = 1000$\")\n",
    "ax1.set_xlabel(\"$\\\\theta$\")\n",
    "\n",
    "ax2.plot(theta_x, ecrps_res2, color=blue)\n",
    "ax2.fill_between(theta_x, min(ecrps_res2), max(ecrps_res2), where=(ecrps_res2 > ecrps_res2[-1]), color='grey', alpha=0.5)\n",
    "ax2.axvline(theta_x[np.argmin(ecrps_res2)], color='black', linewidth=1, zorder=-2, ls='--')\n",
    "ax2.axvline(theta_s, color='black', ls='-', linewidth=1, zorder=-1)\n",
    "ax2.set_ylabel(\"Expected CRPS\")\n",
    "ax2.set_title(\"$d_2 = 0.01$\")\n",
    "ax2.set_xlabel(\"$\\\\theta$\")\n",
    "\n",
    "plt.savefig(f'./plots/CRPS_theta_star={theta_s}_d1={d1}_d2={d2},001_n={n}_k={k}.pdf', bbox_inches='tight',pad_inches=0.1, dpi=1000)  "
   ]
  },
  {
   "cell_type": "code",
   "execution_count": 39,
   "id": "1f322681-d7be-487c-88a6-e54c1955a482",
   "metadata": {},
   "outputs": [
    {
     "data": {
      "text/plain": [
       "Text(0, 0.5, 'Expected CRPS')"
      ]
     },
     "execution_count": 39,
     "metadata": {},
     "output_type": "execute_result"
    },
    {
     "data": {
      "image/png": "[encoded data removed]",
      "text/plain": [
       "<Figure size 864x288 with 2 Axes>"
      ]
     },
     "metadata": {
      "needs_background": "light"
     },
     "output_type": "display_data"
    }
   ],
   "source": [
    "fig, (ax1, ax2) = plt.subplots(ncols=2, figsize=(12,4))\n",
    "ax1.plot(theta_x, ese_res, color=blue)\n",
    "ax1.fill_between(theta_x, min(ese_res), max(ese_res), where=(ese_res > ese_res[-1]), color='grey', alpha=0.5)\n",
    "ax1.axvline(theta_x[np.argmin(ese_res)], color='black', linewidth=1, zorder=-2)\n",
    "ax1.axvline(theta_s, color='black', ls='--', linewidth=1, zorder=-1)\n",
    "ax1.set_ylabel(\"Expected SE\")\n",
    "\n",
    "ax2.plot(theta_x, ecrps_res, color=blue)\n",
    "ax2.fill_between(theta_x, min(ecrps_res), max(ecrps_res), where=(ecrps_res > ecrps_res[-1]), color='grey', alpha=0.5)\n",
    "ax2.axvline(theta_x[np.argmin(ecrps_res)], color='black', linewidth=1, zorder=-2)\n",
    "ax2.axvline(theta_s, color='black', ls='--', linewidth=1, zorder=-1)\n",
    "ax2.set_ylabel(\"Expected CRPS\")"
   ]
  },
  {
   "cell_type": "code",
   "execution_count": 40,
   "id": "e4d596ca-037f-4b79-92df-ab4f3a42b0e0",
   "metadata": {},
   "outputs": [
    {
     "data": {
      "text/plain": [
       "True"
      ]
     },
     "execution_count": 40,
     "metadata": {},
     "output_type": "execute_result"
    }
   ],
   "source": [
    "np.all(ese_res / ecrps_res)"
   ]
  },
  {
   "cell_type": "markdown",
   "id": "59538e25-b4c8-4bda-be00-576eb30757a7",
   "metadata": {},
   "source": [
    "# Simulation Expected Scores"
   ]
  },
  {
   "cell_type": "code",
   "execution_count": 41,
   "id": "6f062d6b-9e0e-4952-8889-45588bd6d7f1",
   "metadata": {},
   "outputs": [],
   "source": [
    "def ese(theta_star, theta, n, k, d1, d2):\n",
    "    p1 = 2 * ( ((theta_star * theta) / k) + ((1-theta_star)*(1-theta))/((n-k)) )\n",
    "    \n",
    "    p2 = theta**2 / k + (1-theta)**2/(n-k)\n",
    "    \n",
    "    p3 = theta**2 * (k-1)/(k*(d1*k + 1))\n",
    "    \n",
    "    p4 = (1-theta)** 2 * (n-k-1)/((n-k)*(d2*(n-k) + 1))\n",
    "    \n",
    "    return 1 -p1+p2+p3+p4\n",
    "\n",
    "\n",
    "def ecrps(theta_star, theta, n, k, d1, d2):\n",
    "    \n",
    "    p1 = 2/np.sqrt(np.pi) * ( theta*(k-1) * (theta_star/k - d1*theta/(2*(d1*k + 1))) )\n",
    "    p2 = 2/np.sqrt(np.pi) * ( (1-theta)*(n-k-1) * ((1-theta_star)/(n-k) - d2 * (1-theta)/(2*(d2*(n-k)+1))) )\n",
    "    p3 = 2/np.sqrt(np.pi) * ( theta_star + theta**2 - 2*theta_star*theta )\n",
    "    \n",
    "    return p1 + p2 + p3"
   ]
  },
  {
   "cell_type": "code",
   "execution_count": 44,
   "id": "06e2c041-1f10-4504-8ba1-58f69a836feb",
   "metadata": {},
   "outputs": [],
   "source": [
    "def expected_crps(w, w_true, x):\n",
    "    e_crps = 0\n",
    "    \n",
    "    for i in range(n):\n",
    "        for j in range(n):\n",
    "            tmp = np.abs(x[i]-x[j])\n",
    "            e_crps += tmp*w[i]*(w_true[j] - .5*w[j])\n",
    "    \n",
    "    return e_crps\n",
    "\n",
    "def expected_se(w, w_true, x):\n",
    "    fc = np.sum(w*x)\n",
    "    \n",
    "    return np.sum(w_true * (x-fc)**2 )"
   ]
  },
  {
   "cell_type": "code",
   "execution_count": 58,
   "id": "ae4f1572-19f4-43dd-b96a-0196ec5d8a6a",
   "metadata": {},
   "outputs": [],
   "source": [
    "n = 36\n",
    "k = 5\n",
    "d1 = 12\n",
    "d2 = 12\n",
    "theta_star = .7\n",
    "theta = .6\n",
    "n_mc = int(5e4)\n",
    "\n",
    "w_true = np.concatenate([np.repeat(theta_star/k, k), np.repeat((1-theta_star)/(n-k), n-k)])\n",
    "res_std = np.zeros((n_mc, 2))\n",
    "res_uni = np.zeros((n_mc, 2))\n",
    "res_n05 = np.zeros((n_mc, 2))\n",
    "res_n71 = np.zeros((n_mc, 2))\n",
    "res_nR1 = np.zeros((n_mc, 2))"
   ]
  },
  {
   "cell_type": "code",
   "execution_count": 59,
   "id": "56ca0bb3-9e0f-463c-be11-da781551cb98",
   "metadata": {},
   "outputs": [],
   "source": [
    "for l in range(n_mc):\n",
    "    \n",
    "    w = np.concatenate([np.random.dirichlet(np.repeat(d1, k))*theta,\n",
    "                        np.random.dirichlet(np.repeat(d2, n-k))*(1-theta)])\n",
    "    \n",
    "    x_std = np.random.standard_normal(n)\n",
    "    res_std[l,0] = expected_se(w, w_true, x_std)\n",
    "    res_std[l,1] = expected_crps(w, w_true, x_std)\n",
    "    \n",
    "    x_uni = np.random.uniform(0, 1, n)\n",
    "    res_uni[l,0] = expected_se(w, w_true, x_uni)\n",
    "    res_uni[l,1] = expected_crps(w, w_true, x_uni)   \n",
    "\n",
    "    x_n05 = np.random.normal(0, 5, n)\n",
    "    res_n05[l,0] = expected_se(w, w_true, x_n05)\n",
    "    res_n05[l,1] = expected_crps(w, w_true, x_n05)   \n",
    "\n",
    "    x_n71 = np.random.normal(7, 1, n)\n",
    "    res_n71[l,0] = expected_se(w, w_true, x_n71)\n",
    "    res_n71[l,1] = expected_crps(w, w_true, x_n71)   \n",
    "    \n",
    "    x_nR1 = np.random.normal(x_std, 1, n)\n",
    "    res_nR1[l,0] = expected_se(w, w_true, x_nR1)\n",
    "    res_nR1[l,1] = expected_crps(w, w_true, x_nR1)   "
   ]
  },
  {
   "cell_type": "code",
   "execution_count": 62,
   "id": "e90020e5-cfb8-4d8d-853e-3ea3ee4d70e6",
   "metadata": {},
   "outputs": [
    {
     "name": "stdout",
     "output_type": "stream",
     "text": [
      "MSE: N(0,1), U(0,1), N(0,5), N(7,1), N(X,1)\n",
      "0.906 0.0755 22.6446 0.9111 1.816\n",
      "CRPS: N(0,1), U(0,1), N(0,5), N(7,1), N(X,1)\n",
      "0.5113 0.151 2.5566 0.5128 0.724\n"
     ]
    }
   ],
   "source": [
    "r4 = lambda x: np.round(x, 4)\n",
    "print(\"MSE: N(0,1), U(0,1), N(0,5), N(7,1), N(X,1)\")\n",
    "print(r4(res_std[:,0].mean()), r4(res_uni[:,0].mean()), r4(res_n05[:,0].mean()), r4(res_n71[:,0].mean()), r4(res_nR1[:,0].mean()))\n",
    "print(\"CRPS: N(0,1), U(0,1), N(0,5), N(7,1), N(X,1)\")\n",
    "print(r4(res_std[:,1].mean()), r4(res_uni[:,1].mean()), r4(res_n05[:,1].mean()), r4(res_n71[:,1].mean()), r4(res_nR1[:,1].mean()))"
   ]
  },
  {
   "cell_type": "code",
   "execution_count": 63,
   "id": "04f655da-6b47-4c58-819e-7ff9f9b852a8",
   "metadata": {},
   "outputs": [
    {
     "name": "stdout",
     "output_type": "stream",
     "text": [
      "Verhältnis CRPS/SE: \n",
      "N(0,1), U(0,1), N(0,5), N(7,1), N(X,1)\n",
      "0.6172 2.0985 0.1234 0.6157 0.4359\n"
     ]
    }
   ],
   "source": [
    "print('Verhältnis CRPS/SE: ')\n",
    "print(\"N(0,1), U(0,1), N(0,5), N(7,1), N(X,1)\")\n",
    "print(r4((res_std[:,1]/res_std[:,0]).mean()), r4((res_uni[:,1]/res_uni[:,0]).mean()), r4((res_n05[:,1]/res_n05[:,0]).mean()), r4((res_n71[:,1]/res_n71[:,0]).mean()), r4((res_nR1[:,1]/res_nR1[:,0]).mean()))"
   ]
  },
  {
   "cell_type": "code",
   "execution_count": 75,
   "id": "d6bf7358-22a9-4a07-adb0-361dc34ad117",
   "metadata": {},
   "outputs": [
    {
     "name": "stdout",
     "output_type": "stream",
     "text": [
      "Verhältnis CRPS/SE: \n",
      "N(0,1), U(0,1), N(0,5), N(7,1), N(X,1)\n",
      "0.5643 2.0006 0.1129 0.5628 0.3987\n"
     ]
    }
   ],
   "source": [
    "print('Verhältnis CRPS/SE: ')\n",
    "print(\"N(0,1), U(0,1), N(0,5), N(7,1), N(X,1)\")\n",
    "print(r4(res_std[:,1].mean()/res_std[:,0].mean()), r4(res_uni[:,1].mean()/res_uni[:,0].mean()), r4(res_n05[:,1].mean()/res_n05[:,0].mean()), r4(res_n71[:,1].mean()/res_n71[:,0].mean()), r4(res_nR1[:,1].mean()/res_nR1[:,0].mean()))"
   ]
  },
  {
   "cell_type": "code",
   "execution_count": 74,
   "id": "1c60fa23-a2d3-4e5a-88dc-5b20a8e96c9a",
   "metadata": {},
   "outputs": [
    {
     "data": {
      "text/plain": [
       "0.5643080249247441"
      ]
     },
     "execution_count": 74,
     "metadata": {},
     "output_type": "execute_result"
    }
   ],
   "source": [
    "res_std[:,1].mean()/res_std[:,0].mean()"
   ]
  },
  {
   "cell_type": "code",
   "execution_count": 64,
   "id": "8713870c-1d73-485c-a776-23d2b9c04cc9",
   "metadata": {},
   "outputs": [
    {
     "data": {
      "text/plain": [
       "0.5641895835477563"
      ]
     },
     "execution_count": 64,
     "metadata": {},
     "output_type": "execute_result"
    }
   ],
   "source": [
    "1/np.sqrt(np.pi)"
   ]
  },
  {
   "cell_type": "code",
   "execution_count": 65,
   "id": "cdc18d5e-dfdb-410a-9518-4e55a5dd0ea1",
   "metadata": {},
   "outputs": [
    {
     "data": {
      "text/plain": [
       "0.6172052126309039"
      ]
     },
     "execution_count": 65,
     "metadata": {},
     "output_type": "execute_result"
    }
   ],
   "source": [
    "(res_std[:,1] / res_std[:,0]).mean()"
   ]
  },
  {
   "cell_type": "code",
   "execution_count": 71,
   "id": "93dc165a-99e6-4e69-a6af-89f72418205f",
   "metadata": {},
   "outputs": [
    {
     "data": {
      "text/plain": [
       "2.0985290862554464"
      ]
     },
     "execution_count": 71,
     "metadata": {},
     "output_type": "execute_result"
    }
   ],
   "source": [
    "(res_uni[:,1] / res_uni[:,0]).mean()"
   ]
  },
  {
   "cell_type": "code",
   "execution_count": 72,
   "id": "8e16e9b8-86a4-41f3-b17e-e449c2429350",
   "metadata": {},
   "outputs": [],
   "source": [
    "theory = []\n",
    "\n",
    "theory.append(ese(theta_star, theta, n, k, d1, d2))\n",
    "theory.append(ecrps(theta_star, theta, n, k, d1, d2))"
   ]
  },
  {
   "cell_type": "code",
   "execution_count": 73,
   "id": "71e3d984-8f19-4640-b71f-6d1cf36623e5",
   "metadata": {},
   "outputs": [
    {
     "data": {
      "text/plain": [
       "0.5641895835477563"
      ]
     },
     "execution_count": 73,
     "metadata": {},
     "output_type": "execute_result"
    }
   ],
   "source": [
    "theory[1] / theory[0]"
   ]
  },
  {
   "cell_type": "code",
   "execution_count": 53,
   "id": "b76fd7bd-d93e-4ec3-bfb0-84fbcc1d16fd",
   "metadata": {},
   "outputs": [
    {
     "name": "stdout",
     "output_type": "stream",
     "text": [
      "MSE: Theory / Empirics\n",
      "0.9066 / 0.907\n",
      "CRPS: Theory / Empirics\n",
      "0.5115 / 0.5115\n"
     ]
    }
   ],
   "source": [
    "r4 = lambda x: np.round(x, 4)\n",
    "print(\"MSE: Theory / Empirics\")\n",
    "print(r4(theory[0]), '/' ,r4(np.mean(res_std[:,0])))\n",
    "print(\"CRPS: Theory / Empirics\")\n",
    "print(r4(theory[1]), '/' ,r4(np.mean(res_std[:,1])))"
   ]
  },
  {
   "cell_type": "code",
   "execution_count": 84,
   "id": "1e18929f-1a3e-4227-bf3d-1e7eb12d0021",
   "metadata": {},
   "outputs": [
    {
     "name": "stdout",
     "output_type": "stream",
     "text": [
      "MSE: Theory / Empirics\n",
      "0.9826 / 0.9094\n",
      "CRPS: Theory / Empirics\n",
      "0.5544 / 0.5124\n"
     ]
    }
   ],
   "source": [
    "r4 = lambda x: np.round(x, 4)\n",
    "print(\"MSE: Theory / Empirics\")\n",
    "print(r4(theory[0]), '/' ,r4(np.mean(res[:,0])))\n",
    "print(\"CRPS: Theory / Empirics\")\n",
    "print(r4(theory[1]), '/' ,r4(np.mean(res[:,1])))"
   ]
  },
  {
   "cell_type": "code",
   "execution_count": null,
   "id": "e388ee2e-6af1-4bc3-9dd0-f9fff00fd9ea",
   "metadata": {},
   "outputs": [],
   "source": []
  },
  {
   "cell_type": "code",
   "execution_count": 24,
   "id": "0d5fa73a-9fec-4a80-9ba1-198a9fae1c92",
   "metadata": {},
   "outputs": [],
   "source": [
    "def ese(theta_star, theta, n, k, d1, d2):\n",
    "    p1 = 2 * ( ((theta_star * theta) / k) + ((1-theta_star)*(1-theta))/((n-k)) )\n",
    "    \n",
    "    p2 = theta**2 / k + (1-theta)**2/(n-k)\n",
    "    \n",
    "    p3 = theta**2 * (k-1)/(k*(d1*k + 1))\n",
    "    \n",
    "    p4 = (1-theta)** 2 * (n-k-1)/((n-k)*(d2*(n-k) + 1))\n",
    "    \n",
    "    return 1 -p1+p2+p3+p4"
   ]
  },
  {
   "cell_type": "code",
   "execution_count": 25,
   "id": "949043f8-d8c0-4571-8b99-5e42c8b765f5",
   "metadata": {},
   "outputs": [],
   "source": [
    "sq = lambda x: x ** 2\n",
    "\n",
    "def theory_mse(theta, theta_star, k, n, d1, d2):\n",
    "    \n",
    "    p1 = sq(theta)/k + sq(1-theta)/(n-k)\n",
    "    \n",
    "    p2 = 2 * ((theta*theta_star)/k + (1-theta)*(1-theta_star)/(n-k))\n",
    "    \n",
    "    p3 = (k-1)/(k*(d1*k + 1))\n",
    "    \n",
    "    p4 = (n-k-1)/((n-k)*(d2*(n-k) + 1))\n",
    "    \n",
    "    return 1 + p1 - p2 + p3 + p4"
   ]
  },
  {
   "cell_type": "code",
   "execution_count": 26,
   "id": "66989a06-7991-4b92-81c6-0e776c375b1b",
   "metadata": {},
   "outputs": [],
   "source": [
    "def ecrps2(theta_star, theta, n, k, d1, d2):\n",
    "    \n",
    "    p1 = 2/np.sqrt(np.pi) * ( theta*(k-1) * (theta_star/k - d1*theta/(2*(d1*k + 1))) )\n",
    "    p2 = 2/np.sqrt(np.pi) * ( (1-theta)*(n-k-1) * ((1-theta_star)/(n-k) - d2 * (1-theta)/(2*(d2*(n-k)+1))) )\n",
    "    p3 = 2/np.sqrt(np.pi) * ( theta_star + theta**2 - 2*theta_star*theta )\n",
    "    \n",
    "    return p1 + p2 + p3"
   ]
  },
  {
   "cell_type": "code",
   "execution_count": 27,
   "id": "f863367f-4a1b-4dd1-aede-b590b3b0e73a",
   "metadata": {},
   "outputs": [
    {
     "data": {
      "text/plain": [
       "0.9171"
      ]
     },
     "execution_count": 27,
     "metadata": {},
     "output_type": "execute_result"
    }
   ],
   "source": [
    "r4(theory_mse(theta, theta_star, k, n, d1, d2))"
   ]
  },
  {
   "cell_type": "code",
   "execution_count": 28,
   "id": "f3d6c412-c025-4ed3-9cb7-bf4343fbcb05",
   "metadata": {},
   "outputs": [
    {
     "ename": "SyntaxError",
     "evalue": "invalid syntax (659568401.py, line 9)",
     "output_type": "error",
     "traceback": [
      "\u001b[0;36m  File \u001b[0;32m\"/tmp/ipykernel_9301/659568401.py\"\u001b[0;36m, line \u001b[0;32m9\u001b[0m\n\u001b[0;31m    theory[1] <- 1 + sq(theta)/k + sq(1-theta)/(n-k) -\u001b[0m\n\u001b[0m                                                       ^\u001b[0m\n\u001b[0;31mSyntaxError\u001b[0m\u001b[0;31m:\u001b[0m invalid syntax\n"
     ]
    }
   ],
   "source": [
    "\n",
    "# Example plot showing true and esitmated weights (for one simulation run)\n",
    "# matplot(cbind(w_true, w), pch = 20, ylab = \"\", bty = \"n\")\n",
    "\n",
    "theory <- rep(NA, 2)\n",
    "# Expected SE\n",
    "sq <- function(x) (x^2)\n",
    "m1 <- function(x) (x-1)\n",
    "p1 <- function(x) (x+1)\n",
    "theory[1] <- 1 + sq(theta)/k + sq(1-theta)/(n-k) - \n",
    "  2*((theta*theta_star)/k + (1-theta)*(1-theta_star)/(n-k)) + \n",
    "  (sq(theta)*m1(k))/(k*p1(d1*k)) + \n",
    "  (sq(1-theta)*m1(n-k))/((n-k)*p1((n-k)*d2))\n",
    "# Expected CRPS\n",
    "theory[2] <- (theta*(k-1)*(theta_star/k - \n",
    "                             .5*(theta*d1)/(k*d1+1)) + \n",
    "                (1-theta)*(n-k-1)*\n",
    "                ((1-theta_star)/(n-k)-\n",
    "                   .5*(1-theta)*d2/((n-k)*d2 + 1)) +\n",
    "                theta_star + \n",
    "                (theta^2)-2*theta*theta_star)*2/sqrt(pi)\n",
    "\n",
    "r3 <- function(x) round(x, 3)\n",
    "print(\"MSE: Theory / Empirics\")\n",
    "print(paste(r3(theory[1]), \"/\",\n",
    "            r3(mean(res[,1]))))\n",
    "print(\"CRPS: Theory / Empirics\")\n",
    "print(paste(r3(theory[2]), \"/\",\n",
    "            r3(mean(res[,2]))))"
   ]
  },
  {
   "cell_type": "code",
   "execution_count": null,
   "id": "95e10742-1d85-4aab-9e68-370745a971fb",
   "metadata": {},
   "outputs": [],
   "source": []
  }
 ],
 "metadata": {
  "kernelspec": {
   "display_name": "Python 3 (ipykernel)",
   "language": "python",
   "name": "python3"
  },
  "language_info": {
   "codemirror_mode": {
    "name": "ipython",
    "version": 3
   },
   "file_extension": ".py",
   "mimetype": "text/x-python",
   "name": "python",
   "nbconvert_exporter": "python",
   "pygments_lexer": "ipython3",
   "version": "3.7.13"
  }
 },
 "nbformat": 4,
 "nbformat_minor": 5
}
